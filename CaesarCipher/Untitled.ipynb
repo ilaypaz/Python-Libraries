{
 "cells": [
  {
   "cell_type": "code",
   "execution_count": null,
   "id": "ca02271b-6bd5-47c6-8723-29794ab28175",
   "metadata": {},
   "outputs": [
    {
     "name": "stdout",
     "output_type": "stream",
     "text": [
      "Do you want to Encrypt or Decrypt a message? (E/D)\n",
      " e\n",
      "What is our key for this campaign?\n",
      " unbearable\n"
     ]
    },
    {
     "ename": "NameError",
     "evalue": "name 'ifNotNum' is not defined",
     "output_type": "error",
     "traceback": [
      "\u001b[0;31m---------------------------------------------------------------------------\u001b[0m",
      "\u001b[0;31mNameError\u001b[0m                                 Traceback (most recent call last)",
      "Cell \u001b[0;32mIn[15], line 55\u001b[0m\n\u001b[1;32m     52\u001b[0m             \u001b[38;5;28;01mbreak\u001b[39;00m\n\u001b[1;32m     54\u001b[0m \u001b[38;5;28;01mif\u001b[39;00m \u001b[38;5;18m__name__\u001b[39m \u001b[38;5;241m==\u001b[39m \u001b[38;5;124m\"\u001b[39m\u001b[38;5;124m__main__\u001b[39m\u001b[38;5;124m\"\u001b[39m:\n\u001b[0;32m---> 55\u001b[0m     main()\n",
      "Cell \u001b[0;32mIn[15], line 34\u001b[0m, in \u001b[0;36mmain\u001b[0;34m()\u001b[0m\n\u001b[1;32m     32\u001b[0m \u001b[38;5;28;01mwhile\u001b[39;00m \u001b[38;5;28;01mTrue\u001b[39;00m:\n\u001b[1;32m     33\u001b[0m     key_input \u001b[38;5;241m=\u001b[39m \u001b[38;5;28minput\u001b[39m(\u001b[38;5;124m\"\u001b[39m\u001b[38;5;124mWhat is our key for this campaign?\u001b[39m\u001b[38;5;130;01m\\n\u001b[39;00m\u001b[38;5;124m\"\u001b[39m)\n\u001b[0;32m---> 34\u001b[0m     \u001b[38;5;28;01mif\u001b[39;00m ifNotNum(key_input):\n\u001b[1;32m     35\u001b[0m         \u001b[38;5;28mprint\u001b[39m(\u001b[38;5;124m\"\u001b[39m\u001b[38;5;124mPlease enter a valid number for the key.\u001b[39m\u001b[38;5;124m\"\u001b[39m)\n\u001b[1;32m     36\u001b[0m         \u001b[38;5;28;01mcontinue\u001b[39;00m\n",
      "\u001b[0;31mNameError\u001b[0m: name 'ifNotNum' is not defined"
     ]
    }
   ],
   "source": [
    "\n",
    "\n",
    "def caesar_decrypt(message, key):# method for decryption \n",
    "    decrypted = \"\"\n",
    "    for char in message:#iterate through every character in the message\n",
    "        if char.isalpha():#check to see if a character is an alphabet in the first place\n",
    "            value = ord(char.lower()) - key #obtain numeric value of char with addition of the key also lower case the message for consistency\n",
    "            if value < ord('a'): \n",
    "                value += 26\n",
    "            decrypted += chr(value)# reconvert ascii values to char \n",
    "        else:\n",
    "            decrypted += char\n",
    "    return decrypted\n",
    "\n",
    "def caesar_encrypt(message, key): #basically the same method as decrypt\n",
    "    encrypted = \"\"\n",
    "    for char in message:\n",
    "        if char.isalpha():\n",
    "            value = ord(char.upper()) + key #upper case encryption \n",
    "            if value > ord('Z'):\n",
    "                value -= 26\n",
    "            encrypted += chr(value)\n",
    "        else:\n",
    "            encrypted += char\n",
    "    return encrypted\n",
    "\n",
    "def main():\n",
    "    while True:\n",
    "        choice = input(\"Do you want to Encrypt or Decrypt a message? (E/D)\\n\")\n",
    "        #output statement used to obtain the encrypt/decrypt choice \n",
    "        if choice not in ['E', 'D','e','d']:# if the thing inputted isn't an E or a D\n",
    "            print(\"Invalid choice! Please enter an e or d\")\n",
    "            continue #goes back to the start of the loop, skipping over any other statements contained within the loop\n",
    "        while True:\n",
    "            key_input = input(\"What is our key for this campaign?\\n\")\n",
    "            if ifNotNum(key_input):\n",
    "                print(\"Please enter a valid number for the key.\")\n",
    "                continue\n",
    "            key = int(key_input)\n",
    "            break  # Exit key input loop after valid key\n",
    "        while True:\n",
    "            message = input(\"What is your encrypted message?\\n\")\n",
    "            if choice in ['D', 'd']:\n",
    "                print(\"Here is your decrypted message:\")\n",
    "                print(caesar_decrypt(message, key))#call decrypt method\n",
    "            else:\n",
    "                print(\"Here is your encrypted message:\")\n",
    "                print(caesar_encrypt(message, key))#call encrypt method \n",
    "            more = input(\"More messages? (Y/N)\\n\")\n",
    "            if more in ['N','n']:\n",
    "                break\n",
    "        restart = input(\"Do you want to start over? (Y/N)\\n\").upper()\n",
    "        if restart == 'N':\n",
    "            break\n",
    "\n",
    "if __name__ == \"__main__\":\n",
    "    main()"
   ]
  },
  {
   "cell_type": "code",
   "execution_count": 19,
   "id": "98e2ebb5-fe6b-4417-9bdc-c0a7f7efa86f",
   "metadata": {},
   "outputs": [
    {
     "name": "stdout",
     "output_type": "stream",
     "text": [
      "1 : 2\n",
      "22\n",
      "2 : 45\n",
      "108\n",
      "3 : 220\n",
      "458\n"
     ]
    }
   ],
   "source": [
    "#2.\t(6 marks) Find the output of the following:   \n",
    "L1 = [9,8,7,3,2,1,4,5,6]  \n",
    "START = 4  \n",
    "tempSUM = 0  \n",
    "for C in range(START,7):    \n",
    "    tempSUM = tempSUM*2 + L1[C]    \n",
    "    print(C-3, \":\", tempSUM)    \n",
    "    tempSUM += tempSUM + L1[-1]*3    \n",
    "    print(tempSUM) \n"
   ]
  },
  {
   "cell_type": "code",
   "execution_count": 23,
   "id": "f6cdf59e-6b34-4298-a223-7aba2e769520",
   "metadata": {},
   "outputs": [
    {
     "name": "stdout",
     "output_type": "stream",
     "text": [
      "I am hungry\n"
     ]
    }
   ],
   "source": [
    "\tprint(\"I am {}\".format(\"hungry\"))\n"
   ]
  },
  {
   "cell_type": "code",
   "execution_count": 25,
   "id": "220dc557-e9be-4d68-88a0-7b5eb25d91db",
   "metadata": {},
   "outputs": [
    {
     "name": "stdout",
     "output_type": "stream",
     "text": [
      "The price in CAD is $68.60\n"
     ]
    }
   ],
   "source": [
    "USD_to_CAD = 1.372201025\n",
    "USD = 49.99\n",
    "CAD_price = 49.99 * USD_to_CAD\n",
    "formatted_price = f\"The price in CAD is ${CAD_price:.2f}\"\n",
    "print(formatted_price)\n",
    "\n"
   ]
  },
  {
   "cell_type": "code",
   "execution_count": 27,
   "id": "95c3eb66-c55e-41e1-afb3-46cb27436252",
   "metadata": {},
   "outputs": [
    {
     "name": "stdout",
     "output_type": "stream",
     "text": [
      "Address:  100 W 49th Ave\n"
     ]
    }
   ],
   "source": [
    "print(f\"{'Address:':10}100 W 49th Ave\")"
   ]
  },
  {
   "cell_type": "code",
   "execution_count": 29,
   "id": "d490580b-d6fe-4bcb-b021-e8db1cdefc9e",
   "metadata": {},
   "outputs": [
    {
     "name": "stdout",
     "output_type": "stream",
     "text": [
      "6\n",
      "91.33042437130977\n",
      "0.913764071310952\n"
     ]
    }
   ],
   "source": [
    "import random\n",
    "print(random.randint(0,10))\n",
    "print(random.uniform(90,100))\n",
    "print(random.random())\n"
   ]
  },
  {
   "cell_type": "code",
   "execution_count": 31,
   "id": "f55a2a84-1a12-430f-9f62-a1a34b31ba69",
   "metadata": {},
   "outputs": [
    {
     "name": "stdout",
     "output_type": "stream",
     "text": [
      "[99 88]\n"
     ]
    }
   ],
   "source": [
    "import numpy as np\n",
    "a=np.array([99,30,45,50,88])\n",
    "print(a[a>50])\n"
   ]
  },
  {
   "cell_type": "code",
   "execution_count": null,
   "id": "7ed94d20-952e-4a20-8f23-1a8d82fd3691",
   "metadata": {},
   "outputs": [],
   "source": []
  }
 ],
 "metadata": {
  "kernelspec": {
   "display_name": "Python [conda env:base] *",
   "language": "python",
   "name": "conda-base-py"
  },
  "language_info": {
   "codemirror_mode": {
    "name": "ipython",
    "version": 3
   },
   "file_extension": ".py",
   "mimetype": "text/x-python",
   "name": "python",
   "nbconvert_exporter": "python",
   "pygments_lexer": "ipython3",
   "version": "3.12.2"
  }
 },
 "nbformat": 4,
 "nbformat_minor": 5
}
