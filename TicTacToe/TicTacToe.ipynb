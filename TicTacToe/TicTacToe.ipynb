{
 "cells": [
  {
   "cell_type": "code",
   "execution_count": 2,
   "id": "b951c1ef-ce64-4556-afb5-fdbbe6daf4cd",
   "metadata": {},
   "outputs": [
    {
     "name": "stdout",
     "output_type": "stream",
     "text": [
      "\n",
      "\n",
      "_____\n",
      " |  | \n",
      "_____\n",
      " |  | \n",
      "_____\n",
      " |  | \n",
      "_____\n"
     ]
    },
    {
     "name": "stdin",
     "output_type": "stream",
     "text": [
      "Player O, enter position (1-9):  1\n"
     ]
    },
    {
     "name": "stdout",
     "output_type": "stream",
     "text": [
      "\n",
      "\n",
      "_____\n",
      "O |  | \n",
      "_____\n",
      " |  | \n",
      "_____\n",
      " |  | \n",
      "_____\n"
     ]
    },
    {
     "name": "stdin",
     "output_type": "stream",
     "text": [
      "Player X, enter position (1-9):  4\n"
     ]
    },
    {
     "name": "stdout",
     "output_type": "stream",
     "text": [
      "\n",
      "\n",
      "_____\n",
      "O |  | \n",
      "_____\n",
      "X |  | \n",
      "_____\n",
      " |  | \n",
      "_____\n"
     ]
    },
    {
     "name": "stdin",
     "output_type": "stream",
     "text": [
      "Player O, enter position (1-9):  5\n"
     ]
    },
    {
     "name": "stdout",
     "output_type": "stream",
     "text": [
      "\n",
      "\n",
      "_____\n",
      "O |  | \n",
      "_____\n",
      "X | O | \n",
      "_____\n",
      " |  | \n",
      "_____\n"
     ]
    },
    {
     "name": "stdin",
     "output_type": "stream",
     "text": [
      "Player X, enter position (1-9):  6\n"
     ]
    },
    {
     "name": "stdout",
     "output_type": "stream",
     "text": [
      "\n",
      "\n",
      "_____\n",
      "O |  | \n",
      "_____\n",
      "X | O | X\n",
      "_____\n",
      " |  | \n",
      "_____\n"
     ]
    },
    {
     "name": "stdin",
     "output_type": "stream",
     "text": [
      "Player O, enter position (1-9):  7\n"
     ]
    },
    {
     "name": "stdout",
     "output_type": "stream",
     "text": [
      "\n",
      "\n",
      "_____\n",
      "O |  | \n",
      "_____\n",
      "X | O | X\n",
      "_____\n",
      "O |  | \n",
      "_____\n"
     ]
    },
    {
     "name": "stdin",
     "output_type": "stream",
     "text": [
      "Player X, enter position (1-9):  8\n"
     ]
    },
    {
     "name": "stdout",
     "output_type": "stream",
     "text": [
      "\n",
      "\n",
      "_____\n",
      "O |  | \n",
      "_____\n",
      "X | O | X\n",
      "_____\n",
      "O | X | \n",
      "_____\n"
     ]
    },
    {
     "name": "stdin",
     "output_type": "stream",
     "text": [
      "Player O, enter position (1-9):  9\n"
     ]
    },
    {
     "name": "stdout",
     "output_type": "stream",
     "text": [
      "\n",
      "\n",
      "_____\n",
      "O |  | \n",
      "_____\n",
      "X | O | X\n",
      "_____\n",
      "O | X | O\n",
      "_____\n",
      "Player A wins!\n"
     ]
    },
    {
     "name": "stdin",
     "output_type": "stream",
     "text": [
      "Play again? (y/n) n\n"
     ]
    },
    {
     "name": "stdout",
     "output_type": "stream",
     "text": [
      "\n",
      "Game Stats:\n",
      "Total games played: 1\n",
      "Player A wins: 1\n",
      "Player B wins: 0\n",
      "Draws: 0\n"
     ]
    }
   ],
   "source": [
    "replay = True\n",
    "games_played = 0#global so it doesn't change\n",
    "player_a_wins = 0#global \n",
    "player_b_wins = 0#globa\n",
    "draws = 0#global\n",
    "\n",
    "def printb(board):\n",
    "    print('\\n')\n",
    "    for row in board:\n",
    "        print('_____')  # This is the top of the grid\n",
    "        print(f\"{row[0]} | {row[1]} | {row[2]}\")  # Indices of the row\n",
    "    print('_____')# print the line under the row \n",
    "\n",
    "def check_winner(board, player):\n",
    "    for row in board:\n",
    "        if row == [player, player, player]:\n",
    "            return True\n",
    "    # Check columns\n",
    "    for col in range(3):\n",
    "        if board[0][col] == player and board[1][col] == player and board[2][col] == player:\n",
    "            return True\n",
    "    # Check diagonals\n",
    "    if board[0][0] == player and board[1][1] == player and board[2][2] == player:\n",
    "        return True\n",
    "    if board[0][2] == player and board[1][1] == player and board[2][0] == player:\n",
    "        return True\n",
    "    return False\n",
    "\n",
    "def boardFull(board):\n",
    "    for row in board:#iterating through the row's on the board to check fullness\n",
    "        for cell in row:#iterating through the cells in the row to check fulness\n",
    "            if cell == '':#If a cell is empty the board is not empty\n",
    "                return False\n",
    "    return True# if the board is full return true\n",
    "\n",
    "def get_position(player):\n",
    "    while True:#meant to spam you until you give a valid input\n",
    "        try:\n",
    "            pos = int(input(f\"Player {player}, enter position (1-9): \"))  # Typecast input to int\n",
    "            if pos < 1 or pos > 9:  # Check if position is out of range\n",
    "                print(\"Invalid input! Enter a number between 1 and 9.\")\n",
    "                continue\n",
    "            row = (pos - 1) // 3  # Rows 1-3 -> '0' Rows 4-6 ->  '1' , Rows 7-9 '2'\n",
    "            col = (pos - 1) % 3   # Cells 1,4,7 is col 0 Cells 2,5,8 is col 1 Cells 3,6,9 is  col 2\n",
    "            return row, col\n",
    "        except ValueError:\n",
    "            print(\"PLEASE INPUT A NUMBER\")\n",
    "while replay: #while replay is true create a 3x3 matrix with whitespace\n",
    "    a = [['', '', ''], ['', '', ''], ['', '', '']]  \n",
    "    current_player = 'O'  # Player A starts with O\n",
    "    game_over = False\n",
    "    games_played =games_played+ 1##considering a game just started adding a 1 is needed\n",
    "    \n",
    "    while not game_over:\n",
    "        printb(a)#print the matrix every turn\n",
    "        \n",
    "\n",
    "        row, col = get_position(current_player)\n",
    "        \n",
    "        if a[row][col] != '':# if the value in the cell is not whitespace\n",
    "            print(\"Position taken! Try a different one.\")\n",
    "            continue\n",
    "            \n",
    "        a[row][col] = current_player\n",
    "        \n",
    "        if check_winner(a, current_player):\n",
    "            printb(a)\n",
    "            if current_player == 'O':\n",
    "                print(\"Player A wins!\")\n",
    "                player_a_wins += 1\n",
    "            else:\n",
    "                print(\"Player B wins!\")\n",
    "                player_b_wins += 1\n",
    "            game_over = True\n",
    "            continue\n",
    "            \n",
    "        if boardFull(a):\n",
    "            printb(a)\n",
    "            print(\"TIED\")\n",
    "            draws += 1\n",
    "            game_over = True\n",
    "            continue\n",
    "            \n",
    "        current_player = 'X' if current_player == 'O' else 'O'\n",
    "    \n",
    "    response = input(\"Play again? (y/n)\").lower()\n",
    "    if response != 'y':\n",
    "        replay = False\n",
    "\n",
    "print(\"\\nGame Stats:\")\n",
    "print(f\"Total games played: {games_played}\")\n",
    "print(f\"Player A wins: {player_a_wins}\")\n",
    "print(f\"Player B wins: {player_b_wins}\")\n",
    "print(f\"Draws: {draws}\")"
   ]
  },
  {
   "cell_type": "code",
   "execution_count": null,
   "id": "3ceec7f5-9e69-4430-b5d7-9f53c485326d",
   "metadata": {},
   "outputs": [],
   "source": []
  }
 ],
 "metadata": {
  "kernelspec": {
   "display_name": "Python [conda env:base] *",
   "language": "python",
   "name": "conda-base-py"
  },
  "language_info": {
   "codemirror_mode": {
    "name": "ipython",
    "version": 3
   },
   "file_extension": ".py",
   "mimetype": "text/x-python",
   "name": "python",
   "nbconvert_exporter": "python",
   "pygments_lexer": "ipython3",
   "version": "3.12.2"
  }
 },
 "nbformat": 4,
 "nbformat_minor": 5
}
